{
  "cells": [
    {
      "cell_type": "markdown",
      "metadata": {
        "collapsed": true,
        "id": "qUj01Q8rqvJ8"
      },
      "source": [
        "# Введение в нейронные сети\n",
        "\n",
        "## Эпизод 1: Персептрон\n",
        "\n",
        "Дмитрий Сошников\n",
        "\n",
        "технологический евангелист, Microsoft\n",
        "\n",
        "dmitryso@microsoft.com"
      ]
    },
    {
      "cell_type": "markdown",
      "metadata": {
        "id": "r3Wr0BviqvJ_"
      },
      "source": [
        "Данная презентация представляет собой введение в нейронные сети. Идея однодневного мастер-класса основана на Neural Network Workshop в Microsoft Research Cambridge. Материал и фрагменты кода частично взяты из презентаций [Katja Hoffmann](https://www.microsoft.com/en-us/research/people/kahofman/), [Matthew Johnson](https://www.microsoft.com/en-us/research/people/matjoh/) и [Ryoto Tomioka](https://www.microsoft.com/en-us/research/people/ryoto/) из Microsoft Research Cambridge. [NeuroWorkshop](http://github.com/shwars/NeuroWorkshop) подготовлен [Дмитрием Сошниковым](http://blog.soshnikov.com), Microsoft Russia."
      ]
    },
    {
      "cell_type": "markdown",
      "metadata": {
        "id": "DFOr2fb8qvJ_"
      },
      "source": [
        "## Два взгляда на нейронные сети\n",
        "\n",
        " * Восходящий подход к искусственному интеллекту\n",
        " * Способ усложнения и комбинирования базовых алгоритмов машинного обучения\n",
        "     - обучение с учителем (*supervised learning*)\n",
        "     - обучение без учителя (*unsupervised learning*)"
      ]
    },
    {
      "cell_type": "markdown",
      "metadata": {
        "collapsed": true,
        "id": "5Vjl3iNzqvKA"
      },
      "source": [
        "## Обучение с учителем\n",
        "\n",
        "**Дано:**\n",
        "  * Обучающая выборка $\\mathbf{X} \\in \\mathbb{R}^{n \\times k}$\n",
        "    * $n$ - размер выборки\n",
        "    * $x_i$ представлено вектором свойств размерности $k$\n",
        "  * Известные значения целевой функции $\\mathbf{Y}$ ($y_i$ соответствует вектору свойств $x_i$)\n",
        "    * $\\mathbf{Y} \\in \\mathbb{R}^{n \\times 1}$ (задачи регрессии)\n",
        "    * $\\mathbf{Y} \\in C^{n \\times 1}$, где $y_i \\in C$ (задачи классификации на $|C|$ классов)\n"
      ]
    },
    {
      "cell_type": "markdown",
      "metadata": {
        "id": "sTw8lwRuqvKA"
      },
      "source": [
        "## Задача\n",
        "\n",
        "**Дано:**\n",
        "  * Обучающая выборка $\\mathbf{X} \\in \\mathbb{R}^{n \\times k}$\n",
        "  * Входные значение целевой функции $\\mathbf{Y}$\n",
        "\n",
        "**Необходимо построить:**\n",
        "  * Функцию $f : \\mathbf{X} \\rightarrow \\mathbf{Y}$ который _точно предсказывает_ значение целевой функции на новом наборе входных данных $\\mathbf{X}_{new}$\n"
      ]
    },
    {
      "cell_type": "code",
      "execution_count": 7,
      "metadata": {
        "id": "Q_fDi1a5qvKA"
      },
      "outputs": [],
      "source": [
        "import pylab\n",
        "from matplotlib import gridspec\n",
        "from sklearn.datasets import make_classification\n",
        "import numpy as np\n",
        "from ipywidgets import interact, interactive, fixed\n",
        "import ipywidgets as widgets\n",
        "import pickle\n",
        "import os\n",
        "\n",
        "\n",
        "# pick the seed for reproducability - change it to explore the effects of random variations\n",
        "np.random.seed(1)\n",
        "import random"
      ]
    },
    {
      "cell_type": "markdown",
      "metadata": {
        "id": "5RYtYK-AqvKB"
      },
      "source": [
        "## Пример\n",
        "Рассмотрим пример двухмерной задачи классификации на 2 класса. Примером такой задачи может быть классификация опухоли на 2 типа - доброкачественная и злокачественная, в зависимости от её размера и возраста."
      ]
    },
    {
      "cell_type": "code",
      "execution_count": null,
      "metadata": {
        "id": "La_LbuSWqvKC",
        "outputId": "c75ff6c8-7a8a-4e70-8431-56a039afc6e0"
      },
      "outputs": [
        {
          "name": "stdout",
          "output_type": "stream",
          "text": [
            "Features:\n",
            " [[-1.7441838  -1.3952037 ]\n",
            " [ 2.5921783  -0.08124504]\n",
            " [ 0.9218062   0.91789985]\n",
            " [-0.8437018  -0.18738253]]\n",
            "Labels:\n",
            " [-1 -1  1 -1]\n"
          ]
        }
      ],
      "source": [
        "n = 50\n",
        "X, Y = make_classification(n_samples = n, n_features=2,\n",
        "                           n_redundant=0, n_informative=2, flip_y=0)\n",
        "Y = Y*2-1\n",
        "X = X.astype(np.float32); Y = Y.astype(np.int32)\n",
        "\n",
        "# Разбиваем на обучающую и тестовые выборки. В реальной жизни обучающая - 80% данных\n",
        "train_x, test_x = np.split(X, [ n*8//10])\n",
        "train_labels, test_labels = np.split(Y, [n*8//10])\n",
        "print(\"Features:\\n\",train_x[0:4])\n",
        "print(\"Labels:\\n\",train_labels[0:4])"
      ]
    },
    {
      "cell_type": "code",
      "execution_count": null,
      "metadata": {
        "id": "spXnwLZkqvKC"
      },
      "outputs": [],
      "source": [
        "def plot_dataset(suptitle, features, labels):\n",
        "    # prepare the plot\n",
        "    fig, ax = pylab.subplots(1, 1)\n",
        "    #pylab.subplots_adjust(bottom=0.2, wspace=0.4)\n",
        "    fig.suptitle(suptitle, fontsize = 16)\n",
        "    ax.set_xlabel('$x_i[0]$ -- (feature 1)')\n",
        "    ax.set_ylabel('$x_i[1]$ -- (feature 2)')\n",
        "\n",
        "    colors = ['r' if l>0 else 'b' for l in labels]\n",
        "    ax.scatter(features[:, 0], features[:, 1], marker='o', c=colors, s=100, alpha = 0.5)\n",
        "    fig.show()"
      ]
    },
    {
      "cell_type": "code",
      "execution_count": null,
      "metadata": {
        "id": "lGE53M6UqvKD",
        "outputId": "cf16bc85-3fd5-4401-8ad9-7bf760638106"
      },
      "outputs": [
        {
          "name": "stderr",
          "output_type": "stream",
          "text": [
            "<ipython-input-3-a488c9db909e>:11: UserWarning: Matplotlib is currently using module://ipykernel.pylab.backend_inline, which is a non-GUI backend, so cannot show the figure.\n",
            "  fig.show()\n"
          ]
        },
        {
          "data": {
            "image/png": "[encoded data removed]",
            "text/plain": [
              "<Figure size 432x288 with 1 Axes>"
            ]
          },
          "metadata": {
            "needs_background": "light"
          },
          "output_type": "display_data"
        }
      ],
      "source": [
        "plot_dataset('Scatterplot of the training data', train_x, train_labels)"
      ]
    },
    {
      "cell_type": "markdown",
      "metadata": {
        "id": "rwiB84l8qvKD"
      },
      "source": [
        "## Нейросети\n",
        "<img src=\"https://raw.githubusercontent.com/shwars/NeuroWorkshop/master/images/synapse-wikipedia.JPG\" width=\"30%\"/>\n",
        "Искусственная нейросеть - это моделирование с той или иной точностью процессов, происходящих в мозге человека.\n",
        "  * Моделируется в основном электрическая активность\n",
        "  * Сильное упрощение модели, которое позволяет эффективно её вычислять\n",
        "\n"
      ]
    },
    {
      "cell_type": "markdown",
      "metadata": {
        "id": "ZhWC3E7NqvKD"
      },
      "source": [
        "## Персептрон\n",
        "<img style='margin: 10px;width: 30%;' src='https://raw.githubusercontent.com/shwars/NeuroWorkshop/master/images/Rosenblatt-wikipedia.jpg' alt='Frank Rosenblatt' align='right'/>\n",
        "Первая попытка реализовать нейронную сеть - 1957 г., Cornell Aeronautical Laboratory, Frank Rosenblatt. \n",
        "\n",
        "Реализация \"в железе\"\n",
        "\n",
        "Цель - распознавание образов\n",
        "\n",
        "Один нейрон, 400 входов от изображения 20x20, двоичный выход"
      ]
    },
    {
      "cell_type": "markdown",
      "metadata": {
        "id": "ILSi6l1cqvKE"
      },
      "source": [
        "## Персептрон\n",
        "\n",
        "<img style='margin: 10px;width:30%' src='https://raw.githubusercontent.com/shwars/NeuroWorkshop/master/images/Mark_I_perceptron_wikipedia.jpg' align='right' alt='The Mark 1 Perceptron' />\n",
        "\n",
        "New York Times так об этом писала:\n",
        "\n",
        "> the embryo of an electronic computer that [the Navy] expects will be able to walk, talk,\n",
        "> see, write, reproduce itself and be conscious of its existence.\n",
        "\n",
        "В основе - работы Warren McCullock и Walter Pitts 1943 года\n",
        "\n",
        "Threshold Logic Unit - первая модель искусственного нейрона"
      ]
    },
    {
      "cell_type": "markdown",
      "metadata": {
        "id": "fsdu8kbDqvKE"
      },
      "source": [
        "## Мат.модель персептрона\n",
        "\n",
        "На вход подаётся вектор $\\mathbf{x}$, в этом случае выходное значение вычисляется как:\n",
        "\n",
        "$$y(\\mathbf{x}) = f(\\mathbf{w}^{\\mathrm{T}}\\mathbf{x})$$\n",
        "\n",
        "где $\\mathbf{w}$ - вектор весов, $f$ - пороговая функция вида\n",
        "$$\n",
        "f(x) = \\begin{cases}\n",
        "         +1 & x \\geq 0 \\\\\n",
        "         -1 & x < 0\n",
        "       \\end{cases} \\\\\n",
        "$$"
      ]
    },
    {
      "cell_type": "markdown",
      "metadata": {
        "id": "Nbcui7iuqvKE"
      },
      "source": [
        "## Алгоритм обучения\n",
        "\n",
        "Для работы персептрона необходимо найти веса $\\mathbf{w}$. Для этого мы используем и минимизируем **критерий персептрона**:\n",
        "\n",
        "$$E(\\mathbf{w}) = -\\sum_{n \\in \\mathcal{M}}\\mathbf{w}^{\\mathrm{T}}\\mathbf{x}_{n}t_{n}$$\n",
        " \n",
        "  * $t_{n} \\in \\{-1, +1\\}$ для отрицательных и положительных примеров соответственно\n",
        "  * $\\mathcal{M}$ - множество неправильно классифицированных примеров\n",
        "  \n",
        "Для обновления весов на каждом примере мы можем использовать градиент этой функции:\n",
        "\n",
        "$$\\mathbf{w}^{\\tau + 1}=\\mathbf{w}^{\\tau} - \\eta \\nabla E(\\mathbf{w}) = \\mathbf{w}^{\\tau} + \\eta \\mathbf{x}_{n} t_{n}$$\n",
        "\n",
        "где $\\eta$ - коэффициент, показывающий скорость обучения, $\\tau\\in\\mathbb{N}$ - номер шага алгоритма"
      ]
    },
    {
      "cell_type": "code",
      "execution_count": null,
      "metadata": {
        "id": "ciVCjBA-qvKE",
        "outputId": "fc7a69cb-5418-40a8-fbae-eb06688787ff"
      },
      "outputs": [
        {
          "name": "stdout",
          "output_type": "stream",
          "text": [
            "[[ 0.92180622  0.91789985  1.        ]\n",
            " [-1.06435513  1.49764717  1.        ]\n",
            " [ 0.32839951  2.25677919  1.        ]]\n"
          ]
        }
      ],
      "source": [
        "pos_examples = np.array([ [t[0],t[1],1] for i,t in enumerate(train_x) \n",
        "                          if train_labels[i]>0])\n",
        "neg_examples = np.array([ [t[0],t[1],1] for i,t in enumerate(train_x) \n",
        "                          if train_labels[i]<0])\n",
        "print(pos_examples[0:3])"
      ]
    },
    {
      "cell_type": "markdown",
      "metadata": {
        "id": "Gvt5pPcZqvKE"
      },
      "source": [
        "```python\n",
        "def train(positive_examples, negative_examples, num_iterations = 100):\n",
        "\n",
        "    weights = [0,0,0]\n",
        "        \n",
        "    for i in range(num_iterations):\n",
        "        pos = random.choice(positive_examples)\n",
        "        neg = random.choice(negative_examples)\n",
        "\n",
        "        z = np.dot(pos, weights)   \n",
        "        if z < 0:\n",
        "            weights = weights + weights.shape\n",
        "\n",
        "        z  = np.dot(neg, weights)\n",
        "        if z >= 0:\n",
        "            weights = weights - weights.shape\n",
        "\n",
        "    return weights\n",
        "```"
      ]
    },
    {
      "cell_type": "code",
      "execution_count": null,
      "metadata": {
        "id": "2V149hGrqvKE"
      },
      "outputs": [],
      "source": [
        "def train(positive_examples, negative_examples, num_iterations = 100):\n",
        "    num_dims = positive_examples.shape[1]\n",
        "    weights = np.zeros((num_dims,1)) # инициализируем веса\n",
        "    \n",
        "    pos_count = positive_examples.shape[0]\n",
        "    neg_count = negative_examples.shape[0]\n",
        "    \n",
        "    report_frequency = 10\n",
        "    \n",
        "    for i in range(num_iterations):\n",
        "        pos = random.choice(positive_examples)\n",
        "        neg = random.choice(negative_examples)\n",
        "\n",
        "        z = np.dot(pos, weights)   \n",
        "        if z < 0:\n",
        "            weights = weights + pos.reshape(weights.shape)\n",
        "\n",
        "        z  = np.dot(neg, weights)\n",
        "        if z >= 0:\n",
        "            weights = weights - neg.reshape(weights.shape)\n",
        "            \n",
        "        if i % report_frequency == 0:             \n",
        "            pos_out = np.dot(positive_examples, weights)\n",
        "            neg_out = np.dot(negative_examples, weights)        \n",
        "            pos_correct = (pos_out >= 0).sum() / float(pos_count)\n",
        "            neg_correct = (neg_out < 0).sum() / float(neg_count)\n",
        "            print(\"Iteration={}, pos correct={}, neg correct={}\".format(i,pos_correct,neg_correct))\n",
        "\n",
        "    return weights"
      ]
    },
    {
      "cell_type": "code",
      "execution_count": null,
      "metadata": {
        "id": "CK0HJtIFqvKF",
        "outputId": "66c996d2-02ad-4d6d-ae69-3d03cd3ba99d"
      },
      "outputs": [
        {
          "name": "stdout",
          "output_type": "stream",
          "text": [
            "Iteration=0, pos correct=0.6842105263157895, neg correct=0.8571428571428571\n",
            "Iteration=10, pos correct=0.8947368421052632, neg correct=0.9523809523809523\n",
            "Iteration=20, pos correct=0.8421052631578947, neg correct=1.0\n",
            "Iteration=30, pos correct=0.8947368421052632, neg correct=0.8095238095238095\n",
            "Iteration=40, pos correct=0.8947368421052632, neg correct=0.9523809523809523\n",
            "Iteration=50, pos correct=0.8947368421052632, neg correct=0.9047619047619048\n",
            "Iteration=60, pos correct=0.8421052631578947, neg correct=1.0\n",
            "Iteration=70, pos correct=0.8421052631578947, neg correct=1.0\n",
            "Iteration=80, pos correct=0.8421052631578947, neg correct=0.9523809523809523\n",
            "Iteration=90, pos correct=0.9473684210526315, neg correct=0.9047619047619048\n",
            "[[-1.32446712  6.01149898  1.        ]]\n"
          ]
        }
      ],
      "source": [
        "wts = train(pos_examples,neg_examples)\n",
        "print(wts.transpose())"
      ]
    },
    {
      "cell_type": "code",
      "execution_count": null,
      "metadata": {
        "id": "nkfrcLjZqvKF"
      },
      "outputs": [],
      "source": [
        "def plot_boundary(positive_examples, negative_examples, weights):\n",
        "    if np.isclose(weights[1], 0):\n",
        "        if np.isclose(weights[0], 0):\n",
        "            x = y = np.array([-6, 6], dtype = 'float32')\n",
        "        else:\n",
        "            y = np.array([-6, 6], dtype='float32')\n",
        "            x = -(weights[1] * y + weights[2])/weights[0]\n",
        "    else:\n",
        "        x = np.array([-6, 6], dtype='float32')\n",
        "        y = -(weights[0] * x + weights[2])/weights[1]\n",
        "\n",
        "    pylab.xlim(-6, 6)\n",
        "    pylab.ylim(-6, 6)                      \n",
        "    pylab.plot(positive_examples[:,0], positive_examples[:,1], 'bo')\n",
        "    pylab.plot(negative_examples[:,0], negative_examples[:,1], 'ro')\n",
        "    pylab.plot(x, y, 'g', linewidth=2.0)\n",
        "    pylab.show()"
      ]
    },
    {
      "cell_type": "code",
      "execution_count": null,
      "metadata": {
        "id": "-pPbz4W2qvKF",
        "outputId": "d223a1bb-ecc9-4831-9d96-9d9a6bf0c893"
      },
      "outputs": [
        {
          "data": {
            "image/png": "[encoded data removed]",
            "text/plain": [
              "<Figure size 432x288 with 1 Axes>"
            ]
          },
          "metadata": {
            "needs_background": "light"
          },
          "output_type": "display_data"
        }
      ],
      "source": [
        "plot_boundary(pos_examples,neg_examples,wts)"
      ]
    },
    {
      "cell_type": "markdown",
      "metadata": {
        "id": "1-Kraq8VqvKF"
      },
      "source": [
        "## Проверяем на тестовой выборке"
      ]
    },
    {
      "cell_type": "code",
      "execution_count": null,
      "metadata": {
        "id": "lAObeyjDqvKF",
        "outputId": "e3b09816-ed3c-48d2-8aff-57a0ffff9ddd"
      },
      "outputs": [
        {
          "data": {
            "text/plain": [
              "1.0"
            ]
          },
          "execution_count": 10,
          "metadata": {},
          "output_type": "execute_result"
        }
      ],
      "source": [
        "def accuracy(weights, test_x, test_labels):\n",
        "    res = np.dot(np.c_[test_x,np.ones(len(test_x))],weights)\n",
        "    return (res.reshape(test_labels.shape)*test_labels>=0).sum()/float(len(test_labels))\n",
        "\n",
        "accuracy(wts, test_x, test_labels)"
      ]
    },
    {
      "cell_type": "markdown",
      "metadata": {
        "id": "RGERSy5cqvKF"
      },
      "source": [
        "## Посмотрим, как меняется точность обучения"
      ]
    },
    {
      "cell_type": "code",
      "execution_count": 2,
      "metadata": {
        "id": "JptiXzEUqvKG"
      },
      "outputs": [],
      "source": [
        "def train_graph(positive_examples, negative_examples, num_iterations = 100):\n",
        "    num_dims = positive_examples.shape[1]\n",
        "    weights = np.zeros((num_dims,1)) # инициализируем веса\n",
        "    \n",
        "    pos_count = positive_examples.shape[0]\n",
        "    neg_count = negative_examples.shape[0]\n",
        "    \n",
        "    report_frequency = 15;\n",
        "    snapshots = []\n",
        "    \n",
        "    for i in range(num_iterations):\n",
        "        pos = random.choice(positive_examples)\n",
        "        neg = random.choice(negative_examples)\n",
        "\n",
        "        z = np.dot(pos, weights)   \n",
        "        if z < 0:\n",
        "            weights = weights + pos.reshape(weights.shape)\n",
        "\n",
        "        z  = np.dot(neg, weights)\n",
        "        if z >= 0:\n",
        "            weights = weights - neg.reshape(weights.shape)\n",
        "            \n",
        "        if i % report_frequency == 0:             \n",
        "            pos_out = np.dot(positive_examples, weights)\n",
        "            neg_out = np.dot(negative_examples, weights)        \n",
        "            pos_correct = (pos_out >= 0).sum() / float(pos_count)\n",
        "            neg_correct = (neg_out < 0).sum() / float(neg_count)\n",
        "            snapshots.append((np.copy(weights),(pos_correct+neg_correct)/2.0))\n",
        "\n",
        "    return np.array(snapshots)\n",
        "\n",
        "#snapshots = train_graph(pos_examples,neg_examples)\n",
        "\n",
        "def plotit(pos_examples,neg_examples,snapshots,step):\n",
        "    fig = pylab.figure(figsize=(10,4))\n",
        "    fig.add_subplot(1, 2, 1)\n",
        "    plot_boundary(pos_examples, neg_examples, snapshots[step][0])\n",
        "    fig.add_subplot(1, 2, 2)\n",
        "    pylab.plot(np.arange(len(snapshots[:,1])), snapshots[:,1])\n",
        "    pylab.ylabel('Accuracy')\n",
        "    pylab.xlabel('Iteration')\n",
        "    pylab.plot(step, snapshots[step,1], \"bo\")\n",
        "    pylab.show()\n",
        "def pl1(step): plotit(pos_examples,neg_examples,snapshots,step)"
      ]
    },
    {
      "cell_type": "code",
      "execution_count": null,
      "metadata": {
        "colab": {
          "referenced_widgets": [
            "fce71c9c2ff14cd08290de7d11d71717"
          ]
        },
        "id": "23VjwIIwqvKG",
        "outputId": "2811d2ed-9d7f-4dee-a225-5edf9507e38e"
      },
      "outputs": [
        {
          "data": {
            "application/vnd.jupyter.widget-view+json": {
              "model_id": "fce71c9c2ff14cd08290de7d11d71717",
              "version_major": 2,
              "version_minor": 0
            },
            "text/plain": [
              "interactive(children=(IntSlider(value=0, description='step', max=6), Output()), _dom_classes=('widget-interact…"
            ]
          },
          "metadata": {},
          "output_type": "display_data"
        },
        {
          "data": {
            "text/plain": [
              "<function __main__.pl1(step)>"
            ]
          },
          "execution_count": 12,
          "metadata": {},
          "output_type": "execute_result"
        }
      ],
      "source": [
        "interact(pl1, step=widgets.IntSlider(value=0, min=0, max=len(snapshots)-1))"
      ]
    },
    {
      "cell_type": "markdown",
      "metadata": {
        "id": "WwL1dDw1qvKG"
      },
      "source": [
        "## Ограниченность персептрона\n",
        "\n",
        "Типичный пример нерешаемой задачи - **исключающее или** (XOR problem)\n",
        "\n",
        "|   | 0 | 1 |\n",
        "|---|---|---|\n",
        "| 0 | 0 | 1 | \n",
        "| 1 | 1 | 0 |"
      ]
    },
    {
      "cell_type": "code",
      "execution_count": null,
      "metadata": {
        "id": "mUA8PmPaqvKG"
      },
      "outputs": [],
      "source": [
        "pos_examples_xor = np.array([[1,0,1],[0,1,1]])\n",
        "neg_examples_xor = np.array([[1,1,1],[0,0,1]])\n",
        "\n",
        "snapshots_xor = train_graph(pos_examples_xor,neg_examples_xor,1000)\n",
        "def pl2(step): plotit(pos_examples_xor,neg_examples_xor,snapshots_xor,step)"
      ]
    },
    {
      "cell_type": "code",
      "execution_count": null,
      "metadata": {
        "colab": {
          "referenced_widgets": [
            "849a6d62824e4aec879479b4aa9c79d3"
          ]
        },
        "id": "fZW6NpYcqvKG",
        "outputId": "e32cce25-061b-46dd-db9d-64a9e2710546"
      },
      "outputs": [
        {
          "data": {
            "application/vnd.jupyter.widget-view+json": {
              "model_id": "849a6d62824e4aec879479b4aa9c79d3",
              "version_major": 2,
              "version_minor": 0
            },
            "text/plain": [
              "interactive(children=(IntSlider(value=0, description='step', max=6), Output()), _dom_classes=('widget-interact…"
            ]
          },
          "metadata": {},
          "output_type": "display_data"
        },
        {
          "data": {
            "text/plain": [
              "<function __main__.pl2(step)>"
            ]
          },
          "execution_count": 14,
          "metadata": {},
          "output_type": "execute_result"
        }
      ],
      "source": [
        "interact(pl2, step=widgets.IntSlider(value=0, min=0, max=len(snapshots)-1))"
      ]
    },
    {
      "cell_type": "markdown",
      "metadata": {
        "collapsed": true,
        "id": "SQ_UmwXEqvKG"
      },
      "source": [
        "## Сложный пример - MNIST\n",
        "\n",
        "Modified National Institute of Standards and Technology\n",
        "\n",
        "https://www.kaggle.com/c/digit-recognizer\n",
        "\n",
        "  * Рукописные цифры, собранные с сотрудников института стандартов и учащихся, около 250 человек\n",
        "  * 60000 обучающая выборка, 10000 тестовая выборка, собранная от разных групп\n",
        "  * Изображения в градациях серого, 28x28"
      ]
    },
    {
      "cell_type": "code",
      "execution_count": 8,
      "metadata": {
        "colab": {
          "base_uri": "https://localhost:8080/"
        },
        "id": "m86ugXkfqvKG",
        "outputId": "448f6128-69c9-43f1-e07b-cf69f8ed1794"
      },
      "outputs": [
        {
          "output_type": "stream",
          "name": "stdout",
          "text": [
            "rm: cannot remove '*.pkl': No such file or directory\n",
            "--2022-03-11 11:22:56--  https://raw.githubusercontent.com/shwars/NeuroWorkshop/master/Data/MNIST/mnist.pkl.gz\n",
            "Resolving raw.githubusercontent.com (raw.githubusercontent.com)... 185.199.108.133, 185.199.109.133, 185.199.110.133, ...\n",
            "Connecting to raw.githubusercontent.com (raw.githubusercontent.com)|185.199.108.133|:443... connected.\n",
            "HTTP request sent, awaiting response... 200 OK\n",
            "Length: 10392609 (9.9M) [application/octet-stream]\n",
            "Saving to: ‘mnist.pkl.gz’\n",
            "\n",
            "mnist.pkl.gz        100%[===================>]   9.91M  --.-KB/s    in 0.1s    \n",
            "\n",
            "2022-03-11 11:22:56 (82.4 MB/s) - ‘mnist.pkl.gz’ saved [10392609/10392609]\n",
            "\n"
          ]
        }
      ],
      "source": [
        "!rm *.pkl\n",
        "!wget https://raw.githubusercontent.com/shwars/NeuroWorkshop/master/Data/MNIST/mnist.pkl.gz\n",
        "!gzip -d mnist.pkl.gz"
      ]
    },
    {
      "cell_type": "code",
      "execution_count": 9,
      "metadata": {
        "id": "Ek5vh4YBqvKH"
      },
      "outputs": [],
      "source": [
        "with open('mnist.pkl', 'rb') as mnist_pickle:\n",
        "    MNIST = pickle.load(mnist_pickle)"
      ]
    },
    {
      "cell_type": "code",
      "execution_count": 4,
      "metadata": {
        "colab": {
          "base_uri": "https://localhost:8080/",
          "height": 167
        },
        "id": "_Ig4nliNqvKH",
        "outputId": "872da9dd-1cca-464f-e9c4-cfa96fca9e95"
      },
      "outputs": [
        {
          "output_type": "stream",
          "name": "stdout",
          "text": [
            "[  0   0 188 255  94   0   0   0   0   0   0   0   0   0   0   0   0   0\n",
            "   0   0   0   0   0   0   0   0   0   0   0 191 250 253  93   0   0   0\n",
            "   0   0   0   0   0   0   0   0   0   0   0   0   0   0]\n",
            "1\n"
          ]
        },
        {
          "output_type": "display_data",
          "data": {
            "image/png": "[encoded data removed]",
            "text/plain": [
              "<Figure size 720x360 with 10 Axes>"
            ]
          },
          "metadata": {
            "needs_background": "light"
          }
        }
      ],
      "source": [
        "print(MNIST['Train']['Features'][0][130:180])\n",
        "print(MNIST['Train']['Labels'][0])\n",
        "features = MNIST['Train']['Features'].astype(np.float32) / 256.0\n",
        "labels = MNIST['Train']['Labels']\n",
        "fig = pylab.figure(figsize=(10,5))\n",
        "for i in range(10):\n",
        "    ax = fig.add_subplot(1,10,i+1)\n",
        "    pylab.imshow(features[i].reshape(28,28))\n",
        "pylab.show()"
      ]
    },
    {
      "cell_type": "code",
      "execution_count": 12,
      "metadata": {
        "id": "C7ybGw1XqvKH"
      },
      "outputs": [],
      "source": [
        "def set_mnist_pos_neg(positive_label, negative_label):\n",
        "    positive_indices = [i for i, j in enumerate(MNIST['Train']['Labels']) \n",
        "                          if j == positive_label]\n",
        "    negative_indices = [i for i, j in enumerate(MNIST['Train']['Labels']) \n",
        "                          if j == negative_label]\n",
        "\n",
        "    positive_images = MNIST['Train']['Features'][positive_indices]\n",
        "    negative_images = MNIST['Train']['Features'][negative_indices]\n",
        "\n",
        "    fig = pylab.figure()\n",
        "    ax = fig.add_subplot(1, 2, 1)\n",
        "    pylab.imshow(positive_images[0].reshape(28,28), cmap='gray', interpolation='nearest')\n",
        "    ax.set_xticks([])\n",
        "    ax.set_yticks([])\n",
        "    ax = fig.add_subplot(1, 2, 2)\n",
        "    pylab.imshow(negative_images[0].reshape(28,28), cmap='gray', interpolation='nearest')\n",
        "    ax.set_xticks([])\n",
        "    ax.set_yticks([])\n",
        "    pylab.show()\n",
        "    \n",
        "    return positive_images, negative_images"
      ]
    },
    {
      "cell_type": "code",
      "execution_count": 13,
      "metadata": {
        "colab": {
          "base_uri": "https://localhost:8080/",
          "height": 187
        },
        "id": "5HqgahO6qvKH",
        "outputId": "6bbad062-f03b-49de-bcaf-4ab21b236c96"
      },
      "outputs": [
        {
          "output_type": "display_data",
          "data": {
            "image/png": "[encoded data removed]",
            "text/plain": [
              "<Figure size 432x288 with 2 Axes>"
            ]
          },
          "metadata": {}
        }
      ],
      "source": [
        "pos1,neg1 = set_mnist_pos_neg(1,0)"
      ]
    },
    {
      "cell_type": "code",
      "execution_count": 14,
      "metadata": {
        "id": "StgIMw-oqvKH"
      },
      "outputs": [],
      "source": [
        "def plotit2(snapshots_mn,step):\n",
        "    fig = pylab.figure(figsize=(10,4))\n",
        "    ax = fig.add_subplot(1, 2, 1)\n",
        "    pylab.imshow(snapshots_mn[step][0].reshape(28, 28), interpolation='nearest')\n",
        "    ax.set_xticks([])\n",
        "    ax.set_yticks([])\n",
        "    pylab.colorbar()\n",
        "    ax = fig.add_subplot(1, 2, 2)\n",
        "    ax.set_ylim([0,1])\n",
        "    pylab.plot(np.arange(len(snapshots_mn[:,1])), snapshots_mn[:,1])\n",
        "    pylab.plot(step, snapshots_mn[step,1], \"bo\")\n",
        "    pylab.show()\n",
        "def pl3(step): plotit2(snapshots_mn,step)\n",
        "def pl4(step): plotit2(snapshots_mn2,step)    "
      ]
    },
    {
      "cell_type": "code",
      "execution_count": 15,
      "metadata": {
        "colab": {
          "base_uri": "https://localhost:8080/",
          "height": 356,
          "referenced_widgets": [
            "6f13f15ab5c24b18bd8a7f631818def4",
            "a083857ee5644ef097effa47907d33cc",
            "1dbb1b0d26f446acb377979862875f8a",
            "74c6f08a3c2a4c92bb7106b14d699eb2",
            "59d5def8294a48968e530dc1cae4f600",
            "0655e271243643359ebc21bd636872bb",
            "f092bd073c9141f1a42a72afc57ee776"
          ]
        },
        "id": "rfLqwiTMqvKH",
        "outputId": "1c153bc9-f48e-4482-83e7-e8d8abf140ba"
      },
      "outputs": [
        {
          "output_type": "stream",
          "name": "stderr",
          "text": [
            "/usr/local/lib/python3.7/dist-packages/ipykernel_launcher.py:30: VisibleDeprecationWarning: Creating an ndarray from ragged nested sequences (which is a list-or-tuple of lists-or-tuples-or ndarrays with different lengths or shapes) is deprecated. If you meant to do this, you must specify 'dtype=object' when creating the ndarray.\n"
          ]
        },
        {
          "output_type": "display_data",
          "data": {
            "application/vnd.jupyter.widget-view+json": {
              "model_id": "6f13f15ab5c24b18bd8a7f631818def4",
              "version_minor": 0,
              "version_major": 2
            },
            "text/plain": [
              "interactive(children=(IntSlider(value=0, description='step', max=66), Output()), _dom_classes=('widget-interac…"
            ]
          },
          "metadata": {}
        },
        {
          "output_type": "execute_result",
          "data": {
            "text/plain": [
              "<function __main__.pl3>"
            ]
          },
          "metadata": {},
          "execution_count": 15
        }
      ],
      "source": [
        "snapshots_mn = train_graph(pos1,neg1,1000)    \n",
        "interact(pl3, step=widgets.IntSlider(value=0, min=0, max=len(snapshots_mn) - 1))"
      ]
    },
    {
      "cell_type": "code",
      "execution_count": 16,
      "metadata": {
        "colab": {
          "base_uri": "https://localhost:8080/",
          "height": 187
        },
        "id": "M-1eLCpzqvKH",
        "outputId": "e3d44afe-27e4-4d70-9d58-cc9dc5793f7c"
      },
      "outputs": [
        {
          "output_type": "display_data",
          "data": {
            "image/png": "[encoded data removed]",
            "text/plain": [
              "<Figure size 432x288 with 2 Axes>"
            ]
          },
          "metadata": {}
        }
      ],
      "source": [
        "pos2,neg2 = set_mnist_pos_neg(2,5)"
      ]
    },
    {
      "cell_type": "code",
      "execution_count": 17,
      "metadata": {
        "colab": {
          "base_uri": "https://localhost:8080/",
          "height": 356,
          "referenced_widgets": [
            "b7b78e2c0bab41f5b8a280377e7b7379",
            "8a3327da27f6438884f8dfa71037293a",
            "86c1afced49348ecacfe255010b23030",
            "70dc7280004643c3aae69107e92e65de",
            "2b2deaf8411b460d94d3e58c70b75f2d",
            "145aaaeac04a49bda057aa6adc2bce5a",
            "79ff16c8442c4ad4a3d4ae6c5810e80d"
          ]
        },
        "id": "-cSS9LmxqvKI",
        "outputId": "7be53109-4e33-4dc5-e358-8a1296d523fe"
      },
      "outputs": [
        {
          "output_type": "stream",
          "name": "stderr",
          "text": [
            "/usr/local/lib/python3.7/dist-packages/ipykernel_launcher.py:30: VisibleDeprecationWarning: Creating an ndarray from ragged nested sequences (which is a list-or-tuple of lists-or-tuples-or ndarrays with different lengths or shapes) is deprecated. If you meant to do this, you must specify 'dtype=object' when creating the ndarray.\n"
          ]
        },
        {
          "output_type": "display_data",
          "data": {
            "application/vnd.jupyter.widget-view+json": {
              "model_id": "b7b78e2c0bab41f5b8a280377e7b7379",
              "version_minor": 0,
              "version_major": 2
            },
            "text/plain": [
              "interactive(children=(IntSlider(value=0, description='step', max=66), Output()), _dom_classes=('widget-interac…"
            ]
          },
          "metadata": {}
        },
        {
          "output_type": "execute_result",
          "data": {
            "text/plain": [
              "<function __main__.pl4>"
            ]
          },
          "metadata": {},
          "execution_count": 17
        }
      ],
      "source": [
        "snapshots_mn2 = train_graph(pos2,neg2,1000)\n",
        "interact(pl4, step=widgets.IntSlider(value=0, min=0, max=len(snapshots_mn2) - 1))"
      ]
    },
    {
      "cell_type": "markdown",
      "metadata": {
        "id": "z0JhGYAAqvKI"
      },
      "source": [
        "## В чем разница?\n",
        "\n",
        "Почему-то 1 и 0 разделяются намного лучше, чем 2 и 5. \n",
        "\n",
        "Для понимания причины, используем [метод главных компонент](https://ru.wikipedia.org/wiki/%D0%9C%D0%B5%D1%82%D0%BE%D0%B4_%D0%B3%D0%BB%D0%B0%D0%B2%D0%BD%D1%8B%D1%85_%D0%BA%D0%BE%D0%BC%D0%BF%D0%BE%D0%BD%D0%B5%D0%BD%D1%82).\n",
        "\n",
        "**Идея**: выделяем из множества входных фич (784 шт.) подмножество меньшей размерности, которое позволяет максимально репрезентативно разделить множества примеров."
      ]
    },
    {
      "cell_type": "code",
      "execution_count": null,
      "metadata": {
        "id": "8cgwmkSEqvKI"
      },
      "outputs": [],
      "source": [
        "from sklearn.decomposition import PCA\n",
        "\n",
        "def pca_analysis(positive_label, negative_label):\n",
        "    positive_images, negative_images = set_mnist_pos_neg(positive_label, negative_label)\n",
        "    M = np.append(positive_images, negative_images, 0)\n",
        "\n",
        "    mypca = PCA(n_components=2)\n",
        "    mypca.fit(M)\n",
        "    \n",
        "    pos_points = mypca.transform(positive_images[:200])\n",
        "    neg_points = mypca.transform(negative_images[:200])\n",
        "\n",
        "    pylab.plot(pos_points[:,0], pos_points[:,1], 'bo')\n",
        "    pylab.plot(neg_points[:,0], neg_points[:,1], 'ro')"
      ]
    },
    {
      "cell_type": "code",
      "execution_count": null,
      "metadata": {
        "id": "zUv6Am-6qvKI",
        "outputId": "3d86620b-c184-4369-e7c9-f565837305cf"
      },
      "outputs": [
        {
          "data": {
            "image/png": "[encoded data removed]",
            "text/plain": [
              "<Figure size 432x288 with 2 Axes>"
            ]
          },
          "metadata": {},
          "output_type": "display_data"
        },
        {
          "data": {
            "image/png": "[encoded data removed]",
            "text/plain": [
              "<Figure size 432x288 with 1 Axes>"
            ]
          },
          "metadata": {
            "needs_background": "light"
          },
          "output_type": "display_data"
        }
      ],
      "source": [
        "pca_analysis(1,0)"
      ]
    },
    {
      "cell_type": "code",
      "execution_count": null,
      "metadata": {
        "scrolled": false,
        "id": "TQfpqJzGqvKI",
        "outputId": "f2eeb2bc-880b-4918-e2e4-6f3a4cbc0444"
      },
      "outputs": [
        {
          "data": {
            "image/png": "[encoded data removed]",
            "text/plain": [
              "<Figure size 432x288 with 2 Axes>"
            ]
          },
          "metadata": {},
          "output_type": "display_data"
        },
        {
          "data": {
            "image/png": "[encoded data removed]",
            "text/plain": [
              "<Figure size 432x288 with 1 Axes>"
            ]
          },
          "metadata": {
            "needs_background": "light"
          },
          "output_type": "display_data"
        }
      ],
      "source": [
        "pca_analysis(2,5)"
      ]
    },
    {
      "cell_type": "markdown",
      "metadata": {
        "id": "jqBDmhpMqvKI"
      },
      "source": [
        "## Выводы\n",
        "\n",
        " * Мы научились создавать простейшую конфигурацию нейросети - однослойный персептрон\n",
        " * При этом такие сети уже могут решать весьма нетривиальные задачи\n",
        " * Тем не менее, однослойный персептрон по сути эквивалентен логистической регрессии, т.е. класс эффективно решаемых задач ограничен\n",
        " * В пространстве состояний однослойный персептрон может разделить два класса объектов гиперплоскостью"
      ]
    },
    {
      "cell_type": "markdown",
      "source": [
        "## Классификатор всех цифр MNIST"
      ],
      "metadata": {
        "id": "9QxlVWhWq0Vd"
      }
    },
    {
      "cell_type": "code",
      "source": [
        "def set_mnist_pos_neg(positive_label, negative_labels, test_indices): # negative_labels - передаются все цифры кроме positive_label\n",
        "    positive_indices = [i for i, j in enumerate(MNIST['Train']['Labels']) \n",
        "                          if j == positive_label and i not in test_indices]\n",
        "    negative_indices = [i for i, j in enumerate(MNIST['Train']['Labels']) \n",
        "                          if j in negative_labels and i not in test_indices] # !\n",
        "\n",
        "\n",
        "    positive_images = MNIST['Train']['Features'][positive_indices]\n",
        "    negative_images = MNIST['Train']['Features'][negative_indices]\n",
        "\n",
        "    #fig = pylab.figure()\n",
        "    #ax = fig.add_subplot(1, 2, 1)\n",
        "    #pylab.imshow(positive_images[0].reshape(28,28), cmap='gray', interpolation='nearest')\n",
        "    #ax.set_xticks([])\n",
        "    #ax.set_yticks([])\n",
        "    #ax = fig.add_subplot(1, 2, 2)\n",
        "    #pylab.imshow(negative_images[0].reshape(28,28), cmap='gray', interpolation='nearest')\n",
        "    #ax.set_xticks([])\n",
        "    #ax.set_yticks([])\n",
        "    #pylab.show()\n",
        "    \n",
        "    return positive_images, negative_images"
      ],
      "metadata": {
        "id": "uj7qGxs7qzVE"
      },
      "execution_count": 62,
      "outputs": []
    },
    {
      "cell_type": "code",
      "source": [
        "test_sz = 5000\n",
        "test_indices = [ random.randint(0, len(MNIST['Train']['Labels'])) for i in range(test_sz)]\n",
        "\n",
        "model_weights = []\n",
        "\n",
        "test_data_labels = []\n",
        "test_data_images = []\n",
        "for i in range(10):\n",
        "    pos, neg = set_mnist_pos_neg(i,[j for j in range(10) if j != i], test_indices)\n",
        "    snapshots_mn = train_graph(pos,neg,1000)\n",
        "    model_weights.append(snapshots_mn[-1])\n"
      ],
      "metadata": {
        "colab": {
          "base_uri": "https://localhost:8080/"
        },
        "id": "aJInzCxKuJBE",
        "outputId": "e504f6aa-318c-466c-f176-98666aff1d8e"
      },
      "execution_count": 63,
      "outputs": [
        {
          "output_type": "stream",
          "name": "stderr",
          "text": [
            "/usr/local/lib/python3.7/dist-packages/ipykernel_launcher.py:30: VisibleDeprecationWarning: Creating an ndarray from ragged nested sequences (which is a list-or-tuple of lists-or-tuples-or ndarrays with different lengths or shapes) is deprecated. If you meant to do this, you must specify 'dtype=object' when creating the ndarray.\n"
          ]
        }
      ]
    },
    {
      "cell_type": "code",
      "source": [
        "for i in range(len(model_weights)):\n",
        "    print(\"Точность перцептрона по разпознаванию \", i, \" = \", model_weights[i][1])"
      ],
      "metadata": {
        "colab": {
          "base_uri": "https://localhost:8080/"
        },
        "id": "GDvaTDn_0-O6",
        "outputId": "8756c919-6fe8-4831-faff-66ee8e6ef837"
      },
      "execution_count": 64,
      "outputs": [
        {
          "output_type": "stream",
          "name": "stdout",
          "text": [
            "Точность перцептрона по разпознаванию  0  =  0.9451045111444273\n",
            "Точность перцептрона по разпознаванию  1  =  0.9730418152902203\n",
            "Точность перцептрона по разпознаванию  2  =  0.9157337566828445\n",
            "Точность перцептрона по разпознаванию  3  =  0.9144771952312473\n",
            "Точность перцептрона по разпознаванию  4  =  0.9451926471100033\n",
            "Точность перцептрона по разпознаванию  5  =  0.877477504147012\n",
            "Точность перцептрона по разпознаванию  6  =  0.9609306244319703\n",
            "Точность перцептрона по разпознаванию  7  =  0.912893097499357\n",
            "Точность перцептрона по разпознаванию  8  =  0.8599825879099533\n",
            "Точность перцептрона по разпознаванию  9  =  0.8746242211913693\n"
          ]
        }
      ]
    },
    {
      "cell_type": "code",
      "source": [
        "test_data_images = MNIST['Train']['Features'][test_indices]\n",
        "test_data_labels = MNIST['Train']['Labels'][test_indices]"
      ],
      "metadata": {
        "id": "nMljxu_JwCOi"
      },
      "execution_count": 69,
      "outputs": []
    },
    {
      "cell_type": "code",
      "source": [
        "res = []\n",
        "for i in test_data_labels:\n",
        "    if i not in res:\n",
        "        res.append(i)\n",
        "print(res)"
      ],
      "metadata": {
        "colab": {
          "base_uri": "https://localhost:8080/"
        },
        "id": "4JzjmSsb1WLc",
        "outputId": "ef9d6e79-052a-47ba-96db-891783ea7322"
      },
      "execution_count": 70,
      "outputs": [
        {
          "output_type": "stream",
          "name": "stdout",
          "text": [
            "[6, 9, 8, 2, 0, 1, 5, 3, 7, 4]\n"
          ]
        }
      ]
    },
    {
      "cell_type": "code",
      "source": [
        "def calculate_accuracy(test_data_images, test_data_labels, model_weights):\n",
        "    accuracy = 0\n",
        "    for i in range(len(test_data_images)):\n",
        "        res = []\n",
        "        for j in range(len(model_weights)):\n",
        "            res.append(np.dot(test_data_images[i], model_weights[j][0]))\n",
        "        \n",
        "        maxi = max(res)\n",
        "        val = res.index(maxi)\n",
        "        if val == test_data_labels[i]:\n",
        "            accuracy += 1\n",
        "    return accuracy / len(test_data_images)\n"
      ],
      "metadata": {
        "id": "SHvlVBLSyGrH"
      },
      "execution_count": 71,
      "outputs": []
    },
    {
      "cell_type": "code",
      "source": [
        "print(\"Accuracy = \", calculate_accuracy(test_data_images, test_data_labels, model_weights))"
      ],
      "metadata": {
        "colab": {
          "base_uri": "https://localhost:8080/"
        },
        "id": "i5fuyOQ300hY",
        "outputId": "b6e3eb2e-8052-489e-cd39-d68006b40324"
      },
      "execution_count": 72,
      "outputs": [
        {
          "output_type": "stream",
          "name": "stdout",
          "text": [
            "Accuracy =  0.808\n"
          ]
        }
      ]
    }
  ],
  "metadata": {
    "celltoolbar": "Slideshow",
    "kernelspec": {
      "display_name": "Python 3",
      "name": "python3"
    },
    "language_info": {
      "name": "python"
    },
    "livereveal": {
      "start_slideshow_at": "selected"
    },
    "colab": {
      "name": "Perceptrons.ipynb",
      "provenance": [],
      "collapsed_sections": [
        "5RYtYK-AqvKB"
      ]
    },
    "widgets": {
      "application/vnd.jupyter.widget-state+json": {
        "6f13f15ab5c24b18bd8a7f631818def4": {
          "model_module": "@jupyter-widgets/controls",
          "model_name": "VBoxModel",
          "model_module_version": "1.5.0",
          "state": {
            "_view_name": "VBoxView",
            "_dom_classes": [
              "widget-interact"
            ],
            "_model_name": "VBoxModel",
            "_view_module": "@jupyter-widgets/controls",
            "_model_module_version": "1.5.0",
            "_view_count": null,
            "_view_module_version": "1.5.0",
            "box_style": "",
            "layout": "IPY_MODEL_a083857ee5644ef097effa47907d33cc",
            "_model_module": "@jupyter-widgets/controls",
            "children": [
              "IPY_MODEL_1dbb1b0d26f446acb377979862875f8a",
              "IPY_MODEL_74c6f08a3c2a4c92bb7106b14d699eb2"
            ]
          }
        },
        "a083857ee5644ef097effa47907d33cc": {
          "model_module": "@jupyter-widgets/base",
          "model_name": "LayoutModel",
          "model_module_version": "1.2.0",
          "state": {
            "_view_name": "LayoutView",
            "grid_template_rows": null,
            "right": null,
            "justify_content": null,
            "_view_module": "@jupyter-widgets/base",
            "overflow": null,
            "_model_module_version": "1.2.0",
            "_view_count": null,
            "flex_flow": null,
            "width": null,
            "min_width": null,
            "border": null,
            "align_items": null,
            "bottom": null,
            "_model_module": "@jupyter-widgets/base",
            "top": null,
            "grid_column": null,
            "overflow_y": null,
            "overflow_x": null,
            "grid_auto_flow": null,
            "grid_area": null,
            "grid_template_columns": null,
            "flex": null,
            "_model_name": "LayoutModel",
            "justify_items": null,
            "grid_row": null,
            "max_height": null,
            "align_content": null,
            "visibility": null,
            "align_self": null,
            "height": null,
            "min_height": null,
            "padding": null,
            "grid_auto_rows": null,
            "grid_gap": null,
            "max_width": null,
            "order": null,
            "_view_module_version": "1.2.0",
            "grid_template_areas": null,
            "object_position": null,
            "object_fit": null,
            "grid_auto_columns": null,
            "margin": null,
            "display": null,
            "left": null
          }
        },
        "1dbb1b0d26f446acb377979862875f8a": {
          "model_module": "@jupyter-widgets/controls",
          "model_name": "IntSliderModel",
          "model_module_version": "1.5.0",
          "state": {
            "_view_name": "IntSliderView",
            "style": "IPY_MODEL_59d5def8294a48968e530dc1cae4f600",
            "_dom_classes": [],
            "description": "step",
            "step": 1,
            "_model_name": "IntSliderModel",
            "orientation": "horizontal",
            "max": 66,
            "_view_module": "@jupyter-widgets/controls",
            "_model_module_version": "1.5.0",
            "value": 19,
            "_view_count": null,
            "disabled": false,
            "_view_module_version": "1.5.0",
            "min": 0,
            "continuous_update": true,
            "readout_format": "d",
            "description_tooltip": null,
            "readout": true,
            "_model_module": "@jupyter-widgets/controls",
            "layout": "IPY_MODEL_0655e271243643359ebc21bd636872bb"
          }
        },
        "74c6f08a3c2a4c92bb7106b14d699eb2": {
          "model_module": "@jupyter-widgets/output",
          "model_name": "OutputModel",
          "model_module_version": "1.0.0",
          "state": {
            "_view_name": "OutputView",
            "msg_id": "",
            "_dom_classes": [],
            "_model_name": "OutputModel",
            "outputs": [
              {
                "output_type": "display_data",
                "data": {
                  "image/png": "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\n",
                  "text/plain": "<Figure size 720x288 with 3 Axes>"
                },
                "metadata": {
                  "needs_background": "light"
                }
              }
            ],
            "_view_module": "@jupyter-widgets/output",
            "_model_module_version": "1.0.0",
            "_view_count": null,
            "_view_module_version": "1.0.0",
            "layout": "IPY_MODEL_f092bd073c9141f1a42a72afc57ee776",
            "_model_module": "@jupyter-widgets/output"
          }
        },
        "59d5def8294a48968e530dc1cae4f600": {
          "model_module": "@jupyter-widgets/controls",
          "model_name": "SliderStyleModel",
          "model_module_version": "1.5.0",
          "state": {
            "_view_name": "StyleView",
            "handle_color": null,
            "_model_name": "SliderStyleModel",
            "description_width": "",
            "_view_module": "@jupyter-widgets/base",
            "_model_module_version": "1.5.0",
            "_view_count": null,
            "_view_module_version": "1.2.0",
            "_model_module": "@jupyter-widgets/controls"
          }
        },
        "0655e271243643359ebc21bd636872bb": {
          "model_module": "@jupyter-widgets/base",
          "model_name": "LayoutModel",
          "model_module_version": "1.2.0",
          "state": {
            "_view_name": "LayoutView",
            "grid_template_rows": null,
            "right": null,
            "justify_content": null,
            "_view_module": "@jupyter-widgets/base",
            "overflow": null,
            "_model_module_version": "1.2.0",
            "_view_count": null,
            "flex_flow": null,
            "width": null,
            "min_width": null,
            "border": null,
            "align_items": null,
            "bottom": null,
            "_model_module": "@jupyter-widgets/base",
            "top": null,
            "grid_column": null,
            "overflow_y": null,
            "overflow_x": null,
            "grid_auto_flow": null,
            "grid_area": null,
            "grid_template_columns": null,
            "flex": null,
            "_model_name": "LayoutModel",
            "justify_items": null,
            "grid_row": null,
            "max_height": null,
            "align_content": null,
            "visibility": null,
            "align_self": null,
            "height": null,
            "min_height": null,
            "padding": null,
            "grid_auto_rows": null,
            "grid_gap": null,
            "max_width": null,
            "order": null,
            "_view_module_version": "1.2.0",
            "grid_template_areas": null,
            "object_position": null,
            "object_fit": null,
            "grid_auto_columns": null,
            "margin": null,
            "display": null,
            "left": null
          }
        },
        "f092bd073c9141f1a42a72afc57ee776": {
          "model_module": "@jupyter-widgets/base",
          "model_name": "LayoutModel",
          "model_module_version": "1.2.0",
          "state": {
            "_view_name": "LayoutView",
            "grid_template_rows": null,
            "right": null,
            "justify_content": null,
            "_view_module": "@jupyter-widgets/base",
            "overflow": null,
            "_model_module_version": "1.2.0",
            "_view_count": null,
            "flex_flow": null,
            "width": null,
            "min_width": null,
            "border": null,
            "align_items": null,
            "bottom": null,
            "_model_module": "@jupyter-widgets/base",
            "top": null,
            "grid_column": null,
            "overflow_y": null,
            "overflow_x": null,
            "grid_auto_flow": null,
            "grid_area": null,
            "grid_template_columns": null,
            "flex": null,
            "_model_name": "LayoutModel",
            "justify_items": null,
            "grid_row": null,
            "max_height": null,
            "align_content": null,
            "visibility": null,
            "align_self": null,
            "height": null,
            "min_height": null,
            "padding": null,
            "grid_auto_rows": null,
            "grid_gap": null,
            "max_width": null,
            "order": null,
            "_view_module_version": "1.2.0",
            "grid_template_areas": null,
            "object_position": null,
            "object_fit": null,
            "grid_auto_columns": null,
            "margin": null,
            "display": null,
            "left": null
          }
        },
        "b7b78e2c0bab41f5b8a280377e7b7379": {
          "model_module": "@jupyter-widgets/controls",
          "model_name": "VBoxModel",
          "model_module_version": "1.5.0",
          "state": {
            "_view_name": "VBoxView",
            "_dom_classes": [
              "widget-interact"
            ],
            "_model_name": "VBoxModel",
            "_view_module": "@jupyter-widgets/controls",
            "_model_module_version": "1.5.0",
            "_view_count": null,
            "_view_module_version": "1.5.0",
            "box_style": "",
            "layout": "IPY_MODEL_8a3327da27f6438884f8dfa71037293a",
            "_model_module": "@jupyter-widgets/controls",
            "children": [
              "IPY_MODEL_86c1afced49348ecacfe255010b23030",
              "IPY_MODEL_70dc7280004643c3aae69107e92e65de"
            ]
          }
        },
        "8a3327da27f6438884f8dfa71037293a": {
          "model_module": "@jupyter-widgets/base",
          "model_name": "LayoutModel",
          "model_module_version": "1.2.0",
          "state": {
            "_view_name": "LayoutView",
            "grid_template_rows": null,
            "right": null,
            "justify_content": null,
            "_view_module": "@jupyter-widgets/base",
            "overflow": null,
            "_model_module_version": "1.2.0",
            "_view_count": null,
            "flex_flow": null,
            "width": null,
            "min_width": null,
            "border": null,
            "align_items": null,
            "bottom": null,
            "_model_module": "@jupyter-widgets/base",
            "top": null,
            "grid_column": null,
            "overflow_y": null,
            "overflow_x": null,
            "grid_auto_flow": null,
            "grid_area": null,
            "grid_template_columns": null,
            "flex": null,
            "_model_name": "LayoutModel",
            "justify_items": null,
            "grid_row": null,
            "max_height": null,
            "align_content": null,
            "visibility": null,
            "align_self": null,
            "height": null,
            "min_height": null,
            "padding": null,
            "grid_auto_rows": null,
            "grid_gap": null,
            "max_width": null,
            "order": null,
            "_view_module_version": "1.2.0",
            "grid_template_areas": null,
            "object_position": null,
            "object_fit": null,
            "grid_auto_columns": null,
            "margin": null,
            "display": null,
            "left": null
          }
        },
        "86c1afced49348ecacfe255010b23030": {
          "model_module": "@jupyter-widgets/controls",
          "model_name": "IntSliderModel",
          "model_module_version": "1.5.0",
          "state": {
            "_view_name": "IntSliderView",
            "style": "IPY_MODEL_2b2deaf8411b460d94d3e58c70b75f2d",
            "_dom_classes": [],
            "description": "step",
            "step": 1,
            "_model_name": "IntSliderModel",
            "orientation": "horizontal",
            "max": 66,
            "_view_module": "@jupyter-widgets/controls",
            "_model_module_version": "1.5.0",
            "value": 22,
            "_view_count": null,
            "disabled": false,
            "_view_module_version": "1.5.0",
            "min": 0,
            "continuous_update": true,
            "readout_format": "d",
            "description_tooltip": null,
            "readout": true,
            "_model_module": "@jupyter-widgets/controls",
            "layout": "IPY_MODEL_145aaaeac04a49bda057aa6adc2bce5a"
          }
        },
        "70dc7280004643c3aae69107e92e65de": {
          "model_module": "@jupyter-widgets/output",
          "model_name": "OutputModel",
          "model_module_version": "1.0.0",
          "state": {
            "_view_name": "OutputView",
            "msg_id": "",
            "_dom_classes": [],
            "_model_name": "OutputModel",
            "outputs": [
              {
                "output_type": "display_data",
                "data": {
                  "image/png": "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\n",
                  "text/plain": "<Figure size 720x288 with 3 Axes>"
                },
                "metadata": {
                  "needs_background": "light"
                }
              }
            ],
            "_view_module": "@jupyter-widgets/output",
            "_model_module_version": "1.0.0",
            "_view_count": null,
            "_view_module_version": "1.0.0",
            "layout": "IPY_MODEL_79ff16c8442c4ad4a3d4ae6c5810e80d",
            "_model_module": "@jupyter-widgets/output"
          }
        },
        "2b2deaf8411b460d94d3e58c70b75f2d": {
          "model_module": "@jupyter-widgets/controls",
          "model_name": "SliderStyleModel",
          "model_module_version": "1.5.0",
          "state": {
            "_view_name": "StyleView",
            "handle_color": null,
            "_model_name": "SliderStyleModel",
            "description_width": "",
            "_view_module": "@jupyter-widgets/base",
            "_model_module_version": "1.5.0",
            "_view_count": null,
            "_view_module_version": "1.2.0",
            "_model_module": "@jupyter-widgets/controls"
          }
        },
        "145aaaeac04a49bda057aa6adc2bce5a": {
          "model_module": "@jupyter-widgets/base",
          "model_name": "LayoutModel",
          "model_module_version": "1.2.0",
          "state": {
            "_view_name": "LayoutView",
            "grid_template_rows": null,
            "right": null,
            "justify_content": null,
            "_view_module": "@jupyter-widgets/base",
            "overflow": null,
            "_model_module_version": "1.2.0",
            "_view_count": null,
            "flex_flow": null,
            "width": null,
            "min_width": null,
            "border": null,
            "align_items": null,
            "bottom": null,
            "_model_module": "@jupyter-widgets/base",
            "top": null,
            "grid_column": null,
            "overflow_y": null,
            "overflow_x": null,
            "grid_auto_flow": null,
            "grid_area": null,
            "grid_template_columns": null,
            "flex": null,
            "_model_name": "LayoutModel",
            "justify_items": null,
            "grid_row": null,
            "max_height": null,
            "align_content": null,
            "visibility": null,
            "align_self": null,
            "height": null,
            "min_height": null,
            "padding": null,
            "grid_auto_rows": null,
            "grid_gap": null,
            "max_width": null,
            "order": null,
            "_view_module_version": "1.2.0",
            "grid_template_areas": null,
            "object_position": null,
            "object_fit": null,
            "grid_auto_columns": null,
            "margin": null,
            "display": null,
            "left": null
          }
        },
        "79ff16c8442c4ad4a3d4ae6c5810e80d": {
          "model_module": "@jupyter-widgets/base",
          "model_name": "LayoutModel",
          "model_module_version": "1.2.0",
          "state": {
            "_view_name": "LayoutView",
            "grid_template_rows": null,
            "right": null,
            "justify_content": null,
            "_view_module": "@jupyter-widgets/base",
            "overflow": null,
            "_model_module_version": "1.2.0",
            "_view_count": null,
            "flex_flow": null,
            "width": null,
            "min_width": null,
            "border": null,
            "align_items": null,
            "bottom": null,
            "_model_module": "@jupyter-widgets/base",
            "top": null,
            "grid_column": null,
            "overflow_y": null,
            "overflow_x": null,
            "grid_auto_flow": null,
            "grid_area": null,
            "grid_template_columns": null,
            "flex": null,
            "_model_name": "LayoutModel",
            "justify_items": null,
            "grid_row": null,
            "max_height": null,
            "align_content": null,
            "visibility": null,
            "align_self": null,
            "height": null,
            "min_height": null,
            "padding": null,
            "grid_auto_rows": null,
            "grid_gap": null,
            "max_width": null,
            "order": null,
            "_view_module_version": "1.2.0",
            "grid_template_areas": null,
            "object_position": null,
            "object_fit": null,
            "grid_auto_columns": null,
            "margin": null,
            "display": null,
            "left": null
          }
        }
      }
    }
  },
  "nbformat": 4,
  "nbformat_minor": 0
}